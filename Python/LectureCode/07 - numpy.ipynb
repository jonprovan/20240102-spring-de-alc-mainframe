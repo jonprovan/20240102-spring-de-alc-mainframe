{
 "cells": [
  {
   "cell_type": "code",
   "execution_count": null,
   "metadata": {},
   "outputs": [],
   "source": [
    "# Numpy\n",
    "# Math Module built on C++\n",
    "# Everything you are about to see we could theoritically build ourselves but it would be a lot more complex and a lot slower\n",
    "# What Pandas uses in the background for calculations"
   ]
  },
  {
   "cell_type": "code",
   "execution_count": null,
   "metadata": {},
   "outputs": [],
   "source": [
    "# Numpy is usually about 50x - 100x than base python\n",
    "# Arrays, C++ Style Arrays"
   ]
  },
  {
   "cell_type": "code",
   "execution_count": 3,
   "metadata": {},
   "outputs": [],
   "source": [
    "# np is the standard abbreviation for numpy\n",
    "import numpy as np"
   ]
  },
  {
   "cell_type": "code",
   "execution_count": 4,
   "metadata": {},
   "outputs": [
    {
     "name": "stdout",
     "output_type": "stream",
     "text": [
      "2.2.1\n"
     ]
    }
   ],
   "source": [
    "# Col1 Col2 Col3\n",
    "# Row1 Row1 Row1\n",
    "# Row2 Row2 Row2\n",
    "\n",
    "print(np.__version__)"
   ]
  },
  {
   "cell_type": "code",
   "execution_count": 5,
   "metadata": {},
   "outputs": [
    {
     "data": {
      "text/plain": [
       "array([1, 2, 3, 4, 5])"
      ]
     },
     "execution_count": 5,
     "metadata": {},
     "output_type": "execute_result"
    }
   ],
   "source": [
    "# Array is our most basic \"object\" in numpy\n",
    "arr = np.array([1,2,3,4,5])\n",
    "\n",
    "arr"
   ]
  },
  {
   "cell_type": "code",
   "execution_count": 20,
   "metadata": {},
   "outputs": [
    {
     "name": "stdout",
     "output_type": "stream",
     "text": [
      "0 1 2 3\n"
     ]
    }
   ],
   "source": [
    "# We create n-dimensional arrrays\n",
    "\n",
    "# 0-dimensional arrays or scalars\n",
    "scalar = np.array(42)\n",
    "\n",
    "scalar\n",
    "\n",
    "# 1-dimensional arrays or arrays\n",
    "arr = np.array([1,2,3,4,5])\n",
    "\n",
    "arr\n",
    "\n",
    "# 2-dimensional arrays or Matrix\n",
    "matrix = np.array([[1,2,3],[3,4,5]])\n",
    "\n",
    "matrix\n",
    "\n",
    "# 3-dimensional array or Tensor\n",
    "tensor = np.array([[[1,2,3],[4,5,6]],[[7,8,9],[10,11,12]]])\n",
    "\n",
    "tensor\n",
    "\n",
    "# 20-dimensional array I will not be showing this\n",
    "\n",
    "# We can always find the dimension of a particular array\n",
    "print(scalar.ndim, arr.ndim, matrix.ndim, tensor.ndim)"
   ]
  },
  {
   "cell_type": "code",
   "execution_count": 15,
   "metadata": {},
   "outputs": [
    {
     "name": "stdout",
     "output_type": "stream",
     "text": [
      "2\n",
      "2\n",
      "7\n",
      "5\n"
     ]
    }
   ],
   "source": [
    "# Indexing into our arrays\n",
    "\n",
    "# In python multi-indexing looks like this\n",
    "print(matrix[0][1]) # DO NOT DO THIS BAD\n",
    "\n",
    "# Use Numpy's multi-indexing instead\n",
    "print(matrix[0, 1]) # GOOD\n",
    "\n",
    "print(tensor[1, 0, 0])\n",
    "print(tensor[0, 1, 1])"
   ]
  },
  {
   "cell_type": "code",
   "execution_count": 27,
   "metadata": {},
   "outputs": [
    {
     "name": "stdout",
     "output_type": "stream",
     "text": [
      "float32\n"
     ]
    },
    {
     "data": {
      "text/plain": [
       "array([1, 2, 3, 4, 5], dtype=int32)"
      ]
     },
     "execution_count": 27,
     "metadata": {},
     "output_type": "execute_result"
    }
   ],
   "source": [
    "# Data Types\n",
    "# print(matrix.dtype)\n",
    "\n",
    "# Numpy has its own datatypes\n",
    "\n",
    "# i = int - up to int64 other common one is int32 (2^64 - 1) or (2^32 - 1)\n",
    "# u = unsigned - unsigned ints\n",
    "# b = bool\n",
    "# f = floats - float128\n",
    "# c = complex\n",
    "# M = datetime\n",
    "# m = timedelta\n",
    "# S = Strings\n",
    "# U = Unicode strings\n",
    "# O = Object - Often used when more than one datatype is present\n",
    "# V = Void  - Reserved blocks of data\n",
    "# 129, 12390, 4709, Null\n",
    "\n",
    "\n",
    "# We can specify the dtype of our array\n",
    "arr = np.array([1,2,3,4,5], dtype= 'f')\n",
    "print(arr.dtype)\n",
    "\n",
    "# If possible we can also convert/cast between types of existing arrays\n",
    "new_arr = arr.astype('i')\n",
    "new_arr"
   ]
  },
  {
   "cell_type": "code",
   "execution_count": 28,
   "metadata": {},
   "outputs": [
    {
     "name": "stdout",
     "output_type": "stream",
     "text": [
      "(5,)\n",
      "(2, 3)\n",
      "(2, 2, 3)\n"
     ]
    }
   ],
   "source": [
    "# Shapes of our Matricies can be found\n",
    "print(arr.shape)\n",
    "print(matrix.shape)\n",
    "print(tensor.shape)"
   ]
  },
  {
   "cell_type": "code",
   "execution_count": 33,
   "metadata": {},
   "outputs": [
    {
     "name": "stdout",
     "output_type": "stream",
     "text": [
      "(12,)\n",
      "[ 1  2  3  4  5  6  7  8  9 10 11 12]\n",
      "(2, 2, 3)\n",
      "[[[ 1  2  3]\n",
      "  [ 4  5  6]]\n",
      "\n",
      " [[ 7  8  9]\n",
      "  [10 11 12]]]\n"
     ]
    }
   ],
   "source": [
    "# We can reshape our arrays\n",
    "\n",
    "arr = np.array([1,2,3,4,5,6,7,8,9,10,11,12])\n",
    "print(arr.shape)\n",
    "print(arr)\n",
    "arr = arr.reshape(2,2,3)\n",
    "print(arr.shape)\n",
    "print(arr)"
   ]
  },
  {
   "cell_type": "code",
   "execution_count": 40,
   "metadata": {},
   "outputs": [
    {
     "name": "stdout",
     "output_type": "stream",
     "text": [
      "[[ 1  2  3]\n",
      " [ 4  5  6]\n",
      " [ 7  8  9]\n",
      " [10 11 12]]\n"
     ]
    }
   ],
   "source": [
    "# What if we know how many rows/columns we want but don't know how to make the math work\n",
    "arr = np.array([1,2,3,4,5,6,7,8,9,10,11,12])\n",
    "\n",
    "arr = arr.reshape(4,-1)\n",
    "print(arr)\n"
   ]
  },
  {
   "cell_type": "code",
   "execution_count": 41,
   "metadata": {},
   "outputs": [
    {
     "data": {
      "text/plain": [
       "array([ 1,  2,  3,  4,  5,  6,  7,  8,  9, 10, 11, 12])"
      ]
     },
     "execution_count": 41,
     "metadata": {},
     "output_type": "execute_result"
    }
   ],
   "source": [
    "# Flattening our matrix\n",
    "\n",
    "arr = arr.reshape(-1)\n",
    "arr"
   ]
  },
  {
   "cell_type": "code",
   "execution_count": 43,
   "metadata": {},
   "outputs": [
    {
     "name": "stdout",
     "output_type": "stream",
     "text": [
      "1\n",
      "2\n",
      "3\n",
      "4\n",
      "5\n",
      "6\n",
      "7\n",
      "8\n",
      "9\n",
      "10\n",
      "11\n",
      "12\n",
      "\n",
      "1\n",
      "2\n",
      "3\n",
      "4\n",
      "5\n",
      "6\n",
      "7\n",
      "8\n",
      "9\n",
      "10\n",
      "11\n",
      "12\n"
     ]
    }
   ],
   "source": [
    "# Iterating through arrays\n",
    "\n",
    "# Python Method\n",
    "for num in arr:\n",
    "    print(num)\n",
    "\n",
    "print()\n",
    "# Numpy Method\n",
    "for num in np.nditer(arr):\n",
    "    print(num)"
   ]
  },
  {
   "cell_type": "code",
   "execution_count": 46,
   "metadata": {},
   "outputs": [
    {
     "name": "stdout",
     "output_type": "stream",
     "text": [
      "[[1 2 3]\n",
      " [4 5 6]]\n",
      "[[ 7  8  9]\n",
      " [10 11 12]]\n",
      "\n",
      "Joining Array based on rows\n",
      "[[ 1  2  3]\n",
      " [ 4  5  6]\n",
      " [ 7  8  9]\n",
      " [10 11 12]]\n",
      "\n",
      "Joining Array based on columns\n",
      "[[ 1  2  3  7  8  9]\n",
      " [ 4  5  6 10 11 12]]\n"
     ]
    }
   ],
   "source": [
    "# Joining Arrays\n",
    "# Join based off the axis\n",
    "# axis = 0 is joining based on rows\n",
    "# axis = 1 is joining based on columns\n",
    "\n",
    "arr1 = np.array([[1,2,3],[4,5,6]])\n",
    "arr2 = np.array([[7,8,9],[10,11,12]])\n",
    "\n",
    "print(arr1)\n",
    "print(arr2)\n",
    "\n",
    "print()\n",
    "\n",
    "print(\"Joining Array based on rows\")\n",
    "row_arr = np.concatenate((arr1, arr2), axis=0)\n",
    "print(row_arr)\n",
    "\n",
    "print()\n",
    "\n",
    "print(\"Joining Array based on columns\")\n",
    "col_arr = np.concatenate((arr1, arr2), axis=1)\n",
    "print(col_arr)"
   ]
  },
  {
   "cell_type": "code",
   "execution_count": 49,
   "metadata": {},
   "outputs": [
    {
     "data": {
      "text/plain": [
       "[array(['Grass'], dtype='<U6'), array(['Poison'], dtype='<U6')]"
      ]
     },
     "execution_count": 49,
     "metadata": {},
     "output_type": "execute_result"
    }
   ],
   "source": [
    "# Split arrays into n parts\n",
    "\n",
    "arr = np.array([\"Grass\", \"Poison\"])\n",
    "split_arr = np.array_split(arr, 2)\n",
    "\n",
    "split_arr"
   ]
  },
  {
   "cell_type": "code",
   "execution_count": 52,
   "metadata": {},
   "outputs": [
    {
     "name": "stdout",
     "output_type": "stream",
     "text": [
      "(array([1, 3, 6, 7, 9]),)\n",
      "2\n"
     ]
    }
   ],
   "source": [
    "# Find the positions of certain data\n",
    "\n",
    "arr = np.array([1,2,3,2,4,5,2,2,3,2])\n",
    "pos = np.where(arr == 2)\n",
    "\n",
    "print(pos)\n",
    "\n",
    "print(arr[1])\n"
   ]
  },
  {
   "cell_type": "code",
   "execution_count": 54,
   "metadata": {},
   "outputs": [
    {
     "name": "stdout",
     "output_type": "stream",
     "text": [
      "3\n"
     ]
    }
   ],
   "source": [
    "# SearchSorted()\n",
    "\n",
    "arr = np.array([1,2,3,4,5,6,7,8,9])\n",
    "x = np.searchsorted(arr, 4)\n",
    "\n",
    "print(x)"
   ]
  },
  {
   "cell_type": "code",
   "execution_count": 55,
   "metadata": {},
   "outputs": [
    {
     "name": "stdout",
     "output_type": "stream",
     "text": [
      "[ 5  2  3  1  5  9  8 11  6]\n",
      "[ 1  2  3  5  5  6  8  9 11]\n"
     ]
    }
   ],
   "source": [
    "# sort your data\n",
    "\n",
    "arr = np.array([5,2,3,1,5,9,8,11,6])\n",
    "print(arr)\n",
    "sorted_arr = np.sort(arr)\n",
    "print(sorted_arr)"
   ]
  },
  {
   "cell_type": "code",
   "execution_count": 62,
   "metadata": {},
   "outputs": [
    {
     "name": "stdout",
     "output_type": "stream",
     "text": [
      "[[3 1 2]\n",
      " [9 7 8]\n",
      " [5 6 4]]\n",
      "\n",
      "[[1 2 3]\n",
      " [7 8 9]\n",
      " [4 5 6]]\n"
     ]
    }
   ],
   "source": [
    "arr = np.array([[3,1,2],[9,7,8],[5,6,4]])\n",
    "sorted_arr = np.sort(arr)\n",
    "print(arr)\n",
    "print()\n",
    "print(sorted_arr)"
   ]
  },
  {
   "cell_type": "code",
   "execution_count": 64,
   "metadata": {},
   "outputs": [
    {
     "name": "stdout",
     "output_type": "stream",
     "text": [
      "[1 2 3 4 5 6]\n",
      "\n",
      "[2 3 5]\n"
     ]
    }
   ],
   "source": [
    "# Filtering\n",
    "# Filtering is based on boolean values\n",
    "\n",
    "arr = np.array([1,2,3,4,5,6])\n",
    "truth_table = [False, True, True, False, True, False]\n",
    "filtered_array = arr[truth_table]\n",
    "\n",
    "print(arr)\n",
    "print()\n",
    "print(filtered_array)"
   ]
  },
  {
   "cell_type": "code",
   "execution_count": 67,
   "metadata": {},
   "outputs": [
    {
     "name": "stdout",
     "output_type": "stream",
     "text": [
      "[1 2 3 4]\n",
      "[1 2 3 4]\n",
      "[1 2 3 4]\n",
      "\n",
      "[15  2  3  4]\n",
      "[15  2  3  4]\n",
      "[1 2 3 4]\n",
      "\n",
      "[15  2  3  4]\n",
      "None\n"
     ]
    }
   ],
   "source": [
    "# Copies vs Views\n",
    "# View is essentially a \"Shallow Copy\"\n",
    "# Copy is a \"Deep Copy\"\n",
    "# 8 GB w/View -> 8.01 GB\n",
    "# 8 GB w/Copy -> 16 GB File\n",
    "\n",
    "arr = np.array([1,2,3,4])\n",
    "view = arr.view()\n",
    "copy = arr.copy()\n",
    "print(arr)\n",
    "print(view)\n",
    "print(copy)\n",
    "print()\n",
    "\n",
    "arr[0] = 15\n",
    "print(arr)\n",
    "print(view)\n",
    "print(copy)\n",
    "print()\n",
    "\n",
    "print(view.base)\n",
    "print(copy.base)"
   ]
  },
  {
   "cell_type": "code",
   "execution_count": 68,
   "metadata": {},
   "outputs": [],
   "source": [
    "import time"
   ]
  },
  {
   "cell_type": "code",
   "execution_count": 74,
   "metadata": {},
   "outputs": [
    {
     "name": "stdout",
     "output_type": "stream",
     "text": [
      "139.3277449607849\n"
     ]
    }
   ],
   "source": [
    "# Python\n",
    "start = time.time()\n",
    "list = [i for i in range(1_000_000_000)]\n",
    "squared = [i**2 for i in list]\n",
    "stop = time.time()\n",
    "\n",
    "print(stop-start)"
   ]
  },
  {
   "cell_type": "code",
   "execution_count": 75,
   "metadata": {},
   "outputs": [
    {
     "name": "stdout",
     "output_type": "stream",
     "text": [
      "60.49002408981323\n"
     ]
    }
   ],
   "source": [
    "# Numpy\n",
    "\n",
    "start = time.time()\n",
    "list = np.arange(1_000_000_000)\n",
    "squared = list**2\n",
    "stop = time.time()\n",
    "\n",
    "print(stop-start)"
   ]
  },
  {
   "cell_type": "code",
   "execution_count": null,
   "metadata": {},
   "outputs": [],
   "source": []
  }
 ],
 "metadata": {
  "kernelspec": {
   "display_name": ".venv",
   "language": "python",
   "name": "python3"
  },
  "language_info": {
   "codemirror_mode": {
    "name": "ipython",
    "version": 3
   },
   "file_extension": ".py",
   "mimetype": "text/x-python",
   "name": "python",
   "nbconvert_exporter": "python",
   "pygments_lexer": "ipython3",
   "version": "3.12.6"
  }
 },
 "nbformat": 4,
 "nbformat_minor": 2
}

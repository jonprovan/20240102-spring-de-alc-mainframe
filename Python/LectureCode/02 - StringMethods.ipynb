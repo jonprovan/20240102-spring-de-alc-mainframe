{
 "cells": [
  {
   "cell_type": "code",
   "execution_count": 2,
   "metadata": {},
   "outputs": [
    {
     "name": "stdout",
     "output_type": "stream",
     "text": [
      "I can use a single qoute\n",
      "I can also use a double quote\n",
      "This is a multi-line\n",
      "String\n",
      "Using three double quotes\n"
     ]
    }
   ],
   "source": [
    "# Strings and String Operations\n",
    "# We want our strings to look good\n",
    "# Declaring a string is used with EITHER \"\" or ''\n",
    "\n",
    "single_quote = 'I can use a single qoute'\n",
    "double_quote = \"I can also use a double quote\"\n",
    "\n",
    "print(single_quote)\n",
    "print(double_quote)\n",
    "\n",
    "multi_line = \"\"\"This is a multi-line\n",
    "String\n",
    "Using three double quotes\"\"\"\n",
    "\n",
    "print(multi_line)"
   ]
  },
  {
   "cell_type": "code",
   "execution_count": 3,
   "metadata": {},
   "outputs": [
    {
     "name": "stdout",
     "output_type": "stream",
     "text": [
      "It's okay to use a single quote in a string demarked by a double quote\n",
      "Einstien says \"all time is relative\" so your assignment isn't late my deadline is just early\n"
     ]
    }
   ],
   "source": [
    "# We use single and doubles qoutes either for personal preference\n",
    "# Or if we need to use the other in the string\n",
    "\n",
    "contraction = \"It's okay to use a single quote in a string demarked by a double quote\"\n",
    "person_quote = 'Einstien says \"all time is relative\" so your assignment isn\\'t late my deadline is just early'\n",
    "\n",
    "print(contraction)\n",
    "print(person_quote)"
   ]
  },
  {
   "cell_type": "code",
   "execution_count": 6,
   "metadata": {},
   "outputs": [
    {
     "name": "stdout",
     "output_type": "stream",
     "text": [
      "╮\n"
     ]
    }
   ],
   "source": [
    "# Backslash is the escape character\n",
    "# Can also do some funky things\n",
    "# Can escape using \\u to insert unicode characters\n",
    "print('\\u256E')"
   ]
  },
  {
   "cell_type": "code",
   "execution_count": 12,
   "metadata": {},
   "outputs": [
    {
     "name": "stdout",
     "output_type": "stream",
     "text": [
      "10.3 + 15.4 = 25.70\n"
     ]
    }
   ],
   "source": [
    "# When formatting strings we use f-strings\n",
    "x = 10.3\n",
    "y = 15.4\n",
    "\n",
    "print(f\"{x} + {y} = {x+y:.2f}\")"
   ]
  },
  {
   "cell_type": "code",
   "execution_count": 26,
   "metadata": {},
   "outputs": [
    {
     "name": "stdout",
     "output_type": "stream",
     "text": [
      "I\n",
      "I\n",
      " \n",
      "c\n",
      "a\n",
      "n\n",
      " \n",
      "u\n",
      "s\n",
      "e\n",
      " \n",
      "a\n",
      " \n",
      "s\n",
      "i\n",
      "n\n",
      "g\n",
      "l\n",
      "e\n",
      " \n",
      "q\n",
      "o\n",
      "u\n",
      "t\n",
      "e\n"
     ]
    }
   ],
   "source": [
    "# Strings in Python are actually just a list of characters\n",
    "# We can index them\n",
    "# We can iterate through them\n",
    "print(single_quote[0])\n",
    "\n",
    "for c in single_quote:\n",
    "    print(c)"
   ]
  },
  {
   "cell_type": "code",
   "execution_count": 23,
   "metadata": {},
   "outputs": [
    {
     "name": "stdout",
     "output_type": "stream",
     "text": [
      "TORTOISE\n",
      "tortoise\n"
     ]
    }
   ],
   "source": [
    "# Strings are immutable\n",
    "animal = \"tortoise\"\n",
    "animal = animal.upper()\n",
    "print(animal)\n",
    "animal = animal.lower()\n",
    "print(animal)\n"
   ]
  },
  {
   "cell_type": "code",
   "execution_count": 31,
   "metadata": {},
   "outputs": [
    {
     "name": "stdout",
     "output_type": "stream",
     "text": [
      "8\n"
     ]
    }
   ],
   "source": [
    "# Find the Length of a string\n",
    "print(len(animal))\n",
    "\n"
   ]
  },
  {
   "cell_type": "code",
   "execution_count": 33,
   "metadata": {},
   "outputs": [
    {
     "name": "stdout",
     "output_type": "stream",
     "text": [
      "True\n"
     ]
    }
   ],
   "source": [
    "if('pride' in \"Some really long pride and prejudice quote\"):\n",
    "    print(\"True\")"
   ]
  },
  {
   "cell_type": "code",
   "execution_count": 38,
   "metadata": {},
   "outputs": [
    {
     "name": "stdout",
     "output_type": "stream",
     "text": [
      "Today is Monday\n",
      "Today is Tuesday\n",
      "Today is Monday\n"
     ]
    }
   ],
   "source": [
    "# We can replace things directly in a string\n",
    "# Strings are immutable, this will return a new string\n",
    "a = \"Today is Monday\"\n",
    "print(a)\n",
    "\n",
    "print(a.replace(\"Monday\", \"Tuesday\"))\n",
    "\n",
    "print(a)"
   ]
  },
  {
   "cell_type": "code",
   "execution_count": 49,
   "metadata": {},
   "outputs": [
    {
     "name": "stdout",
     "output_type": "stream",
     "text": [
      "       A whole bunch of spaces on either side      \n",
      "A whole bunch of spaces on either side\n",
      "banana\n",
      "['Football', 'and', 'another', 'hobby', 'and', 'maybe', 'something', 'else']\n"
     ]
    }
   ],
   "source": [
    "# We often get data that is messy and not consistent\n",
    "# We need to make it consistent for our code to work\n",
    "\n",
    "# If we have a messy string use .strip() to clean it up\n",
    "\n",
    "messy_str = \"       A whole bunch of spaces on either side      \"\n",
    "print(messy_str)\n",
    "# By default the strip method gets rid of whitespace on either side of the string\n",
    "print(messy_str.strip())\n",
    "\n",
    "# Strip can be used to delete unecessary characters\n",
    "messy_str = \",,,,,rrttgg.....banana....rrr\"\n",
    "print(messy_str.strip(',.rtg'))\n",
    "\n",
    "# 25.\n",
    "# 10.\n",
    "# 139\n",
    "\n",
    "hobbies = \"  Football and another  hobby and maybe something else  \"\n",
    "hobbies = hobbies.strip().replace(\"  \", \" \")\n",
    "hobby_list = hobbies.split(\" \")\n",
    "print(hobby_list)"
   ]
  },
  {
   "cell_type": "code",
   "execution_count": 52,
   "metadata": {},
   "outputs": [
    {
     "name": "stdout",
     "output_type": "stream",
     "text": [
      "Hello World\n",
      "Hello World\n"
     ]
    }
   ],
   "source": [
    "# Concatentating strings is mad easy\n",
    "a = \"Hello\"\n",
    "b = \"World\"\n",
    "print(a + \" \" + b)\n",
    "print(f\"{a} {b}\")"
   ]
  },
  {
   "cell_type": "code",
   "execution_count": 56,
   "metadata": {},
   "outputs": [
    {
     "name": "stdout",
     "output_type": "stream",
     "text": [
      "\\//\\//\n",
      "\\users\\justin\\assignments\\python\n",
      "\\\\//\\\\//\n",
      "\\users\\justin\\assignments\\python\n"
     ]
    }
   ],
   "source": [
    "print(\"\\\\//\\\\//\")\n",
    "print(\"\\\\users\\\\justin\\\\assignments\\\\python\")\n",
    "\n",
    "# Raw string will print whatever is in the string literally\n",
    "print(r\"\\\\//\\\\//\")\n",
    "print(r\"\\users\\justin\\assignments\\python\")"
   ]
  },
  {
   "cell_type": "code",
   "execution_count": null,
   "metadata": {},
   "outputs": [],
   "source": []
  }
 ],
 "metadata": {
  "kernelspec": {
   "display_name": "Python 3",
   "language": "python",
   "name": "python3"
  },
  "language_info": {
   "codemirror_mode": {
    "name": "ipython",
    "version": 3
   },
   "file_extension": ".py",
   "mimetype": "text/x-python",
   "name": "python",
   "nbconvert_exporter": "python",
   "pygments_lexer": "ipython3",
   "version": "3.12.6"
  }
 },
 "nbformat": 4,
 "nbformat_minor": 2
}

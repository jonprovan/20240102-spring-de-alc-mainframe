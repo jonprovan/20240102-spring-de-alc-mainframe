{
 "cells": [
  {
   "cell_type": "code",
   "execution_count": 13,
   "metadata": {},
   "outputs": [
    {
     "name": "stdout",
     "output_type": "stream",
     "text": [
      "2025-01-14 13:12:35.715726\n",
      "2025-01-14 13:12:35.715726\n"
     ]
    }
   ],
   "source": [
    "# Dates and Times are all handled in the Datetime Module\n",
    "\n",
    "import datetime as dt\n",
    "import time\n",
    "\n",
    "# IMPORTANT CONSIDERATIONS\n",
    "# Datetime does not take into account time zones and time zone conversions by default\n",
    "# Use the strftime and strptime methods of datetime most often\n",
    "# Datetime is its own object class\n",
    "# Datetime objects are always formatted as such: Year, Month, Day, Hour, Minute, Second, Microsecond\n",
    "# We will very often use datetime.datetime.now() and datetime.datetime.today()\n",
    "\n",
    "print(dt.datetime.now())\n",
    "print(dt.datetime.today())\n"
   ]
  },
  {
   "cell_type": "code",
   "execution_count": 10,
   "metadata": {},
   "outputs": [
    {
     "name": "stdout",
     "output_type": "stream",
     "text": [
      "Tuesday\n",
      "January\n",
      "14\n",
      "2025\n",
      "Tuesday, January 14th, 2025\n",
      "2025-01-14\n",
      "13:06:25\n"
     ]
    }
   ],
   "source": [
    "# Full datetime object is not always what we need\n",
    "# Use strftime to read through and grab the specific formatting we need\n",
    "\n",
    "now = dt.datetime.now()\n",
    "\n",
    "# Format it in several ways\n",
    "# Full Name of the Weekday\n",
    "print(now.strftime('%A'))\n",
    "\n",
    "# Name of the month\n",
    "print(now.strftime('%B'))\n",
    "\n",
    "# Get the day\n",
    "print(now.strftime('%d'))\n",
    "\n",
    "# Get the year\n",
    "print(now.strftime('%Y'))\n",
    "\n",
    "# Feel free to mix and match\n",
    "print(now.strftime('%A, %B %dth, %Y'))\n",
    "print(now.strftime('%Y-%m-%d'))\n",
    "\n",
    "# Can also do this for time\n",
    "print(now.strftime('%H:%M:%S'))"
   ]
  },
  {
   "cell_type": "code",
   "execution_count": 12,
   "metadata": {},
   "outputs": [
    {
     "name": "stdout",
     "output_type": "stream",
     "text": [
      "20\n"
     ]
    }
   ],
   "source": [
    "# strptime parses a string and turns it into a datetime\n",
    "string_date = \"06-15-2025\"\n",
    "current_date = dt.datetime.strptime(string_date, '%m-%d-%Y')\n",
    "print(current_date.strftime('%C'))"
   ]
  },
  {
   "cell_type": "code",
   "execution_count": 16,
   "metadata": {},
   "outputs": [
    {
     "name": "stdout",
     "output_type": "stream",
     "text": [
      "1736882091.3868778\n"
     ]
    }
   ],
   "source": [
    "# The time module is built in and give a time as a float\n",
    "# Gives Unix time\n",
    "# Unix time = Number of seconds since Midnight on Jan 1, 1970 UTC\n",
    "# 32 bit int overflow on Jan 19, 2038\n",
    "\n",
    "print(time.time())"
   ]
  },
  {
   "cell_type": "code",
   "execution_count": null,
   "metadata": {},
   "outputs": [],
   "source": []
  }
 ],
 "metadata": {
  "kernelspec": {
   "display_name": "Python 3",
   "language": "python",
   "name": "python3"
  },
  "language_info": {
   "codemirror_mode": {
    "name": "ipython",
    "version": 3
   },
   "file_extension": ".py",
   "mimetype": "text/x-python",
   "name": "python",
   "nbconvert_exporter": "python",
   "pygments_lexer": "ipython3",
   "version": "3.12.6"
  }
 },
 "nbformat": 4,
 "nbformat_minor": 2
}

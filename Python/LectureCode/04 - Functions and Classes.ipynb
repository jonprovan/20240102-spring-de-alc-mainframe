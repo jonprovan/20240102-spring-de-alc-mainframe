{
 "cells": [
  {
   "cell_type": "code",
   "execution_count": 1,
   "metadata": {},
   "outputs": [],
   "source": [
    "# Functions in Python have a very simple declaration\n",
    "\n",
    "def multiplier(x,y):\n",
    "    return x * y"
   ]
  },
  {
   "cell_type": "code",
   "execution_count": 2,
   "metadata": {},
   "outputs": [
    {
     "name": "stdout",
     "output_type": "stream",
     "text": [
      "1192\n"
     ]
    }
   ],
   "source": [
    "print(multiplier(4, 298))"
   ]
  },
  {
   "cell_type": "code",
   "execution_count": 5,
   "metadata": {},
   "outputs": [
    {
     "name": "stdout",
     "output_type": "stream",
     "text": [
      "24\n",
      "Please input integers\n",
      "None\n"
     ]
    }
   ],
   "source": [
    "# We can give additional information to our function\n",
    "# 'soft typing'\n",
    "# Type hints will help you keep yourself organized\n",
    "# Any type checking must be handled manually, intepreter will not enforce\n",
    "\n",
    "def calculate_area(length: int, width: int) -> int:\n",
    "    if(type(length) != int or type(width) != int):\n",
    "        print(\"Please input integers\")\n",
    "        return\n",
    "    return length * width\n",
    "\n",
    "print(calculate_area(4, 6))\n",
    "print(calculate_area(\"Goose\", 8))"
   ]
  },
  {
   "cell_type": "code",
   "execution_count": null,
   "metadata": {},
   "outputs": [
    {
     "name": "stdout",
     "output_type": "stream",
     "text": [
      "24\n"
     ]
    }
   ],
   "source": [
    "# We can also specify default values for our parameters\n",
    "\n",
    "def calculate_area(length: int = 4, width: int = 6) -> int:\n",
    "    if(type(length) != int or type(width) != int):\n",
    "        print(\"Please input integers\")\n",
    "        return\n",
    "    return length * width\n",
    "\n",
    "print(calculate_area())"
   ]
  },
  {
   "cell_type": "code",
   "execution_count": 14,
   "metadata": {},
   "outputs": [
    {
     "name": "stdout",
     "output_type": "stream",
     "text": [
      "24\n"
     ]
    }
   ],
   "source": [
    "# Overloading and Overriding\n",
    "# Overriding is having the same method in both a parent and a child class\n",
    "# Overloading is having the same method or function with different parameters\n",
    "# Overriding is known as runtime polymorphism\n",
    "# Overloading is known as compiletime polymorphism\n",
    "\n",
    "# Method overloading\n",
    "def calculate_area(length: int, width: int) -> int:\n",
    "    if(type(length) != int or type(width) != int):\n",
    "        print(\"Please input integers\")\n",
    "        return\n",
    "    return length * width\n",
    "\n",
    "def calculate_area(height: int, width: int, *args) -> int:\n",
    "    return width * height\n",
    "\n",
    "print(calculate_area(4, 6))"
   ]
  },
  {
   "cell_type": "code",
   "execution_count": 60,
   "metadata": {},
   "outputs": [
    {
     "name": "stdout",
     "output_type": "stream",
     "text": [
      "CawCaw\n",
      "Bark\n"
     ]
    }
   ],
   "source": [
    "# Overriding is the same as other languages\n",
    "\n",
    "class Animal:\n",
    "    def speak(self):\n",
    "        return \"CawCaw\"\n",
    "\n",
    "class Dog(Animal):\n",
    "    def speak(self):\n",
    "        return \"Bark\"\n",
    "\n",
    "class Labrador(Dog):\n",
    "    def __init__(self, legs, coat):\n",
    "        super.__init__(self, legs)\n",
    "        self.coat = coat\n",
    "\n",
    "bird = Animal()\n",
    "print(bird.speak())\n",
    "dog = Dog()\n",
    "print(dog.speak())"
   ]
  },
  {
   "cell_type": "code",
   "execution_count": 11,
   "metadata": {},
   "outputs": [
    {
     "name": "stdout",
     "output_type": "stream",
     "text": [
      "('Eggs', 'Bacon', 'Pancakes', 'Milk', 'Hashbrowns')\n",
      "Eggs\n",
      "Bacon\n",
      "Pancakes\n",
      "Milk\n",
      "Hashbrowns\n"
     ]
    }
   ],
   "source": [
    "# What if we don't know how many arguments a specific function should take\n",
    "# *args takes an arbitrary number of arguments\n",
    "\n",
    "def create_shopping_list(*args):\n",
    "    print(args)\n",
    "    for item in args:\n",
    "        print(item)\n",
    "\n",
    "create_shopping_list(\"Eggs\", \"Bacon\", \"Pancakes\", \"Milk\", \"Hashbrowns\")"
   ]
  },
  {
   "cell_type": "code",
   "execution_count": 19,
   "metadata": {},
   "outputs": [
    {
     "name": "stdout",
     "output_type": "stream",
     "text": [
      "{'breakfast': 'Eggs', 'Lunch': 'Chicken', 'Dinner': 'Stirfry'}\n"
     ]
    }
   ],
   "source": [
    "# What if I want to know what people are putting in there?\n",
    "# **kwargs is used for an arbitrary number of keyword arguments\n",
    "\n",
    "def create_shopping_list(**kwargs):\n",
    "    print(kwargs)\n",
    "\n",
    "create_shopping_list(breakfast = \"Eggs\", Lunch = \"Chicken\", Dinner = \"Stirfry\")"
   ]
  },
  {
   "cell_type": "code",
   "execution_count": 23,
   "metadata": {},
   "outputs": [
    {
     "name": "stdout",
     "output_type": "stream",
     "text": [
      "1.5\n",
      "0.6666666666666666\n",
      "Please input integers\n",
      "None\n"
     ]
    }
   ],
   "source": [
    "# Positonal vs Keyword\n",
    "\n",
    "def calculate_area(length: int = None, width: int = None) -> int:\n",
    "    if(type(length) != int or type(width) != int):\n",
    "        print(\"Please input integers\")\n",
    "        return\n",
    "    return length / width\n",
    "\n",
    "print(calculate_area(length = 6, width = 4))\n",
    "print(calculate_area(width = 6, length = 4))\n",
    "print(calculate_area(width = 4))"
   ]
  },
  {
   "cell_type": "code",
   "execution_count": 30,
   "metadata": {},
   "outputs": [
    {
     "name": "stdout",
     "output_type": "stream",
     "text": [
      "14\n",
      "1597\n"
     ]
    }
   ],
   "source": [
    "# Recursive Functions\n",
    "\n",
    "def recursive(n):\n",
    "    if n <= 1:\n",
    "        return 0\n",
    "    else:\n",
    "        return n + recursive(n-1)\n",
    "    \n",
    "print(recursive(5))\n",
    "\n",
    "# n = 5\n",
    "# 5 + recursive(4)\n",
    "#     n = 4\n",
    "#     4 + recursive(3)\n",
    "#         n = 3\n",
    "#         3 + recursive(2)\n",
    "#             n = 2\n",
    "#             2 + recursive(1)\n",
    "#                 0\n",
    "\n",
    "def fib(n):\n",
    "    if n == 1:\n",
    "        return 1\n",
    "    elif n <= 0:\n",
    "        return 0\n",
    "    else:\n",
    "        return fib(n-1) + fib(n-2)\n",
    "    \n",
    "print(fib(17))"
   ]
  },
  {
   "cell_type": "code",
   "execution_count": 43,
   "metadata": {},
   "outputs": [
    {
     "name": "stdout",
     "output_type": "stream",
     "text": [
      "8\n",
      "[1, 3, 5, 7, 9]\n",
      "[1, 4, 9, 16, 25, 36, 49, 64, 81]\n",
      "['r', 'r']\n"
     ]
    }
   ],
   "source": [
    "# Lambda Function\n",
    "# Anonymous Function\n",
    "\n",
    "anon = lambda x, y: x**2 + y\n",
    "print(anon(2, 4))\n",
    "\n",
    "def doubler(n):\n",
    "    return lambda x : x**n\n",
    "\n",
    "doubles = doubler(2)\n",
    "tripler = doubler(3)\n",
    "doubles(8)\n",
    "tripler(8)\n",
    "\n",
    "\n",
    "\n",
    "numbers = [1,2,3,4,5,6,7,8,9]\n",
    "odd_numbers = list(filter(lambda x : (x%2==1), numbers))\n",
    "print(odd_numbers)\n",
    "\n",
    "squared_nums = list(map(lambda x : x**2, numbers))\n",
    "print(squared_nums)\n",
    "\n",
    "Pallindrome = \"racecar\"\n",
    "r = list(filter(lambda x : x == 'r', Pallindrome))\n",
    "print(r)"
   ]
  },
  {
   "cell_type": "code",
   "execution_count": 59,
   "metadata": {},
   "outputs": [
    {
     "name": "stdout",
     "output_type": "stream",
     "text": [
      "jeremy (25)\n",
      "116\n",
      "True\n",
      "True\n"
     ]
    }
   ],
   "source": [
    "# Classes\n",
    "# 'Dunder' or 'Double Underscores'\n",
    "\n",
    "# Scopes: Global, Class, Object/Self\n",
    "\n",
    "class Person:\n",
    "    population = 0\n",
    "\n",
    "    # __init__ is our constructor\n",
    "    def __init__(self, name, age, number):\n",
    "        self.__name = name # jeremy.name = name\n",
    "        self.__age = age\n",
    "        self.number = number\n",
    "        Person.population += 1\n",
    "    \n",
    "    # Defines how it will print out\n",
    "    def __str__(self):\n",
    "        return f\"{self.__name} ({self.__age})\"\n",
    "    \n",
    "    \n",
    "    # Setting up Equals\n",
    "    def __eq__(self, other):\n",
    "        if(self.__name == other.getName() and self.__age == other.getAge()):\n",
    "            return True\n",
    "        else:\n",
    "            return False\n",
    "\n",
    "    # This doesn't work. Please fix    \n",
    "    def __gt__(self, other):\n",
    "        pass\n",
    "\n",
    "    def __lt__(self, other):\n",
    "        pass\n",
    "\n",
    "    def __del__(self):\n",
    "        del self\n",
    "        Person.population -= 1\n",
    "    \n",
    "    def getAge(self):\n",
    "        return self.__age\n",
    "\n",
    "    def getName(self):\n",
    "        return self.__name\n",
    "    \n",
    "    @staticmethod\n",
    "    def isAdult(x):\n",
    "        return x >= 18\n",
    "    \n",
    "    @classmethod\n",
    "    def getPopulation(cls):\n",
    "        return cls.population # Person.population\n",
    "\n",
    "\n",
    "jeremy = Person(\"jeremy\", 25, 116)\n",
    "dylan = Person(\"jeremy\", 25, 189)\n",
    "print(jeremy)\n",
    "print(jeremy.number)\n",
    "# print(jeremy._Person__name)\n",
    "\n",
    "print(jeremy == dylan)\n",
    "print(jeremy.isAdult(jeremy.getAge()))"
   ]
  }
 ],
 "metadata": {
  "kernelspec": {
   "display_name": "Python 3",
   "language": "python",
   "name": "python3"
  },
  "language_info": {
   "codemirror_mode": {
    "name": "ipython",
    "version": 3
   },
   "file_extension": ".py",
   "mimetype": "text/x-python",
   "name": "python",
   "nbconvert_exporter": "python",
   "pygments_lexer": "ipython3",
   "version": "3.12.6"
  }
 },
 "nbformat": 4,
 "nbformat_minor": 2
}

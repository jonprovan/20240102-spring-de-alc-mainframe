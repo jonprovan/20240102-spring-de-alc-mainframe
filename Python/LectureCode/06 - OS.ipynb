{
 "cells": [
  {
   "cell_type": "code",
   "execution_count": 1,
   "metadata": {},
   "outputs": [
    {
     "name": "stdout",
     "output_type": "stream",
     "text": [
      "c:\\Users\\JustinVerdecia\\Desktop\\Skillstorm\\20250102-spring-de-alc-mainframe\\Python\\LectureCode\n"
     ]
    }
   ],
   "source": [
    "# Directly interact with the Operating System through the OS module\n",
    "import os\n",
    "\n",
    "# We can use Linux style commands to navigate the OS\n",
    "cwd = os.getcwd()\n",
    "\n",
    "print(cwd)"
   ]
  },
  {
   "cell_type": "code",
   "execution_count": 3,
   "metadata": {},
   "outputs": [
    {
     "ename": "FileExistsError",
     "evalue": "[WinError 183] Cannot create a file when that file already exists: 'c:\\\\Users\\\\JustinVerdecia\\\\Desktop\\\\Skillstorm\\\\20250102-spring-de-alc-mainframe\\\\Python\\\\LectureCode/demodir'",
     "output_type": "error",
     "traceback": [
      "\u001b[1;31m---------------------------------------------------------------------------\u001b[0m",
      "\u001b[1;31mFileExistsError\u001b[0m                           Traceback (most recent call last)",
      "Cell \u001b[1;32mIn[3], line 3\u001b[0m\n\u001b[0;32m      1\u001b[0m new_directory \u001b[38;5;241m=\u001b[39m \u001b[38;5;124m\"\u001b[39m\u001b[38;5;124m/demodir\u001b[39m\u001b[38;5;124m\"\u001b[39m\n\u001b[1;32m----> 3\u001b[0m \u001b[43mos\u001b[49m\u001b[38;5;241;43m.\u001b[39;49m\u001b[43mmkdir\u001b[49m\u001b[43m(\u001b[49m\u001b[43mcwd\u001b[49m\u001b[43m \u001b[49m\u001b[38;5;241;43m+\u001b[39;49m\u001b[43m \u001b[49m\u001b[43mnew_directory\u001b[49m\u001b[43m)\u001b[49m\n",
      "\u001b[1;31mFileExistsError\u001b[0m: [WinError 183] Cannot create a file when that file already exists: 'c:\\\\Users\\\\JustinVerdecia\\\\Desktop\\\\Skillstorm\\\\20250102-spring-de-alc-mainframe\\\\Python\\\\LectureCode/demodir'"
     ]
    }
   ],
   "source": [
    "new_directory = \"/demodir\"\n",
    "\n",
    "os.mkdir(cwd + new_directory)"
   ]
  },
  {
   "cell_type": "code",
   "execution_count": 4,
   "metadata": {},
   "outputs": [
    {
     "ename": "FileNotFoundError",
     "evalue": "[WinError 3] The system cannot find the path specified: 'c:\\\\Users\\\\JustinVerdecia\\\\Desktop\\\\Skillstorm\\\\20250102-spring-de-alc-mainframe\\\\Python\\\\LectureCode/newdemo/example/anotherdirectory'",
     "output_type": "error",
     "traceback": [
      "\u001b[1;31m---------------------------------------------------------------------------\u001b[0m",
      "\u001b[1;31mFileNotFoundError\u001b[0m                         Traceback (most recent call last)",
      "Cell \u001b[1;32mIn[4], line 5\u001b[0m\n\u001b[0;32m      1\u001b[0m \u001b[38;5;66;03m# mkdir cannot create nested directories\u001b[39;00m\n\u001b[0;32m      3\u001b[0m new_new_directory \u001b[38;5;241m=\u001b[39m \u001b[38;5;124m\"\u001b[39m\u001b[38;5;124m/newdemo/example/anotherdirectory\u001b[39m\u001b[38;5;124m\"\u001b[39m\n\u001b[1;32m----> 5\u001b[0m \u001b[43mos\u001b[49m\u001b[38;5;241;43m.\u001b[39;49m\u001b[43mmkdir\u001b[49m\u001b[43m(\u001b[49m\u001b[43mcwd\u001b[49m\u001b[43m \u001b[49m\u001b[38;5;241;43m+\u001b[39;49m\u001b[43m \u001b[49m\u001b[43mnew_new_directory\u001b[49m\u001b[43m)\u001b[49m\n",
      "\u001b[1;31mFileNotFoundError\u001b[0m: [WinError 3] The system cannot find the path specified: 'c:\\\\Users\\\\JustinVerdecia\\\\Desktop\\\\Skillstorm\\\\20250102-spring-de-alc-mainframe\\\\Python\\\\LectureCode/newdemo/example/anotherdirectory'"
     ]
    }
   ],
   "source": [
    "# mkdir cannot create nested directories\n",
    "\n",
    "new_new_directory = \"/newdemo/example/anotherdirectory\"\n",
    "\n",
    "os.mkdir(cwd + new_new_directory)"
   ]
  },
  {
   "cell_type": "code",
   "execution_count": 5,
   "metadata": {},
   "outputs": [],
   "source": [
    "# Instead we cna nest if we use the python specific function makedirs\n",
    "\n",
    "os.makedirs(cwd + new_new_directory)"
   ]
  },
  {
   "cell_type": "code",
   "execution_count": 6,
   "metadata": {},
   "outputs": [],
   "source": [
    "# Remove empty directories\n",
    "\n",
    "os.removedirs(cwd + new_new_directory)\n",
    "os.rmdir(cwd + new_directory)"
   ]
  },
  {
   "cell_type": "code",
   "execution_count": 8,
   "metadata": {},
   "outputs": [],
   "source": [
    "# Remove individual files\n",
    "\n",
    "os.remove(\"../Data/file1.txt\")\n",
    "os.remove(\"../Data/Catmeme2.jpg\")"
   ]
  },
  {
   "cell_type": "code",
   "execution_count": 9,
   "metadata": {},
   "outputs": [
    {
     "name": "stdout",
     "output_type": "stream",
     "text": [
      "c:\\Users\\JustinVerdecia\\Desktop\\Skillstorm\\20250102-spring-de-alc-mainframe\n"
     ]
    }
   ],
   "source": [
    "# os.walk() will actually walk through all of the folders and files in the specified directory\n",
    "\n",
    "os.chdir(\"../..\")\n",
    "print(os.getcwd())"
   ]
  },
  {
   "cell_type": "code",
   "execution_count": 11,
   "metadata": {},
   "outputs": [
    {
     "name": "stdout",
     "output_type": "stream",
     "text": [
      "c:\\Users\\JustinVerdecia\\Desktop\\Skillstorm\\20250102-spring-de-alc-mainframe\\Python\n",
      "['Assignments', 'Data', 'LectureCode']\n",
      "[]\n"
     ]
    }
   ],
   "source": [
    "for root, dirs, files in os.walk(os.getcwd()):\n",
    "    if 'Data' in dirs:\n",
    "        print(root)\n",
    "        print(dirs)\n",
    "        print(files)"
   ]
  },
  {
   "cell_type": "code",
   "execution_count": null,
   "metadata": {},
   "outputs": [],
   "source": []
  }
 ],
 "metadata": {
  "kernelspec": {
   "display_name": "Python 3",
   "language": "python",
   "name": "python3"
  },
  "language_info": {
   "codemirror_mode": {
    "name": "ipython",
    "version": 3
   },
   "file_extension": ".py",
   "mimetype": "text/x-python",
   "name": "python",
   "nbconvert_exporter": "python",
   "pygments_lexer": "ipython3",
   "version": "3.12.6"
  }
 },
 "nbformat": 4,
 "nbformat_minor": 2
}

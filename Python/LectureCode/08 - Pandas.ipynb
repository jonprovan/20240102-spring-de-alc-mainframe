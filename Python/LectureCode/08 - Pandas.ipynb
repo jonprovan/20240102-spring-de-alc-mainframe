{
 "cells": [
  {
   "cell_type": "markdown",
   "metadata": {},
   "source": [
    "# Pandas\n",
    "- The most used scientific/data library in Python\n",
    "- Uses Numpy as its base for mathematical operations\n",
    "- Working with Series and Data Frames"
   ]
  },
  {
   "cell_type": "code",
   "execution_count": 1,
   "metadata": {},
   "outputs": [],
   "source": [
    "# Pandas alias is pd\n",
    "import pandas as pd"
   ]
  },
  {
   "cell_type": "markdown",
   "metadata": {},
   "source": [
    "# Series\n",
    "- Most basic unit\n",
    "- 1D Array\n",
    "- Indexable"
   ]
  },
  {
   "cell_type": "code",
   "execution_count": 2,
   "metadata": {},
   "outputs": [
    {
     "data": {
      "text/plain": [
       "0    1\n",
       "1    2\n",
       "2    3\n",
       "3    4\n",
       "4    5\n",
       "dtype: int64"
      ]
     },
     "execution_count": 2,
     "metadata": {},
     "output_type": "execute_result"
    }
   ],
   "source": [
    "# Make a series\n",
    "s = pd.Series([1,2,3,4,5])\n",
    "s"
   ]
  },
  {
   "cell_type": "code",
   "execution_count": 6,
   "metadata": {},
   "outputs": [
    {
     "data": {
      "text/plain": [
       "a    1\n",
       "b    2\n",
       "c    3\n",
       "dtype: int64"
      ]
     },
     "execution_count": 6,
     "metadata": {},
     "output_type": "execute_result"
    }
   ],
   "source": [
    "# We can use our own index\n",
    "s = pd.Series([1,2,3], index=['a','b','c'])\n",
    "s"
   ]
  },
  {
   "cell_type": "code",
   "execution_count": 7,
   "metadata": {},
   "outputs": [
    {
     "name": "stdout",
     "output_type": "stream",
     "text": [
      "0    11\n",
      "1    23\n",
      "2    35\n",
      "dtype: int64\n"
     ]
    }
   ],
   "source": [
    "# We can do math with our series\n",
    "s1 = pd.Series([10,20,30])\n",
    "s2 = pd.Series([1,3,5])\n",
    "\n",
    "print(s1+s2)"
   ]
  },
  {
   "cell_type": "code",
   "execution_count": 11,
   "metadata": {},
   "outputs": [
    {
     "name": "stdout",
     "output_type": "stream",
     "text": [
      "a     NaN\n",
      "b    23.0\n",
      "c    31.0\n",
      "c    35.0\n",
      "dtype: float64\n"
     ]
    }
   ],
   "source": [
    "# Items are combined based on index\n",
    "s1 = pd.Series([10,20,30], index=['a','b','c'])\n",
    "s2 = pd.Series([1,3,5], index=['c','b','c'])\n",
    "\n",
    "print(s1+s2)"
   ]
  },
  {
   "cell_type": "markdown",
   "metadata": {},
   "source": [
    "# Data Frame\n",
    "- Main data structure that we will utilize\n",
    "- 2D, Tabular structure\n",
    "- SQL Table Equilavent\n",
    "- Every column in a Data Frame is a Series\n",
    "- Both Rows and Columns are indexable\n",
    "- Benefits:\n",
    "    - Clean look\n",
    "    - Hyper efficient\n",
    "    - Makes Exploring data easy"
   ]
  },
  {
   "cell_type": "code",
   "execution_count": 21,
   "metadata": {},
   "outputs": [
    {
     "data": {
      "text/html": [
       "<div>\n",
       "<style scoped>\n",
       "    .dataframe tbody tr th:only-of-type {\n",
       "        vertical-align: middle;\n",
       "    }\n",
       "\n",
       "    .dataframe tbody tr th {\n",
       "        vertical-align: top;\n",
       "    }\n",
       "\n",
       "    .dataframe thead th {\n",
       "        text-align: right;\n",
       "    }\n",
       "</style>\n",
       "<table border=\"1\" class=\"dataframe\">\n",
       "  <thead>\n",
       "    <tr style=\"text-align: right;\">\n",
       "      <th></th>\n",
       "      <th>Fruits</th>\n",
       "      <th>Colors</th>\n",
       "      <th>Price</th>\n",
       "    </tr>\n",
       "  </thead>\n",
       "  <tbody>\n",
       "    <tr>\n",
       "      <th>0</th>\n",
       "      <td>Apple</td>\n",
       "      <td>Red</td>\n",
       "      <td>2.99</td>\n",
       "    </tr>\n",
       "    <tr>\n",
       "      <th>1</th>\n",
       "      <td>Banana</td>\n",
       "      <td>Yellow</td>\n",
       "      <td>0.99</td>\n",
       "    </tr>\n",
       "    <tr>\n",
       "      <th>2</th>\n",
       "      <td>Orange</td>\n",
       "      <td>Orange</td>\n",
       "      <td>1.99</td>\n",
       "    </tr>\n",
       "  </tbody>\n",
       "</table>\n",
       "</div>"
      ],
      "text/plain": [
       "   Fruits  Colors  Price\n",
       "0   Apple     Red   2.99\n",
       "1  Banana  Yellow   0.99\n",
       "2  Orange  Orange   1.99"
      ]
     },
     "execution_count": 21,
     "metadata": {},
     "output_type": "execute_result"
    }
   ],
   "source": [
    "# The Easiest way to create a data frame is with a Dictionary\n",
    "data = {\n",
    "    \"Fruits\": [\"Apple\", \"Banana\", \"Orange\"],\n",
    "    \"Colors\": [\"Red\", \"Yellow\", \"Orange\"],\n",
    "    \"Price\": [2.99, 0.99, 1.99]\n",
    "}\n",
    "\n",
    "# It will infer the types based on the input\n",
    "df = pd.DataFrame(data)\n",
    "\n",
    "df"
   ]
  },
  {
   "cell_type": "code",
   "execution_count": null,
   "metadata": {},
   "outputs": [],
   "source": []
  }
 ],
 "metadata": {
  "kernelspec": {
   "display_name": ".venv",
   "language": "python",
   "name": "python3"
  },
  "language_info": {
   "codemirror_mode": {
    "name": "ipython",
    "version": 3
   },
   "file_extension": ".py",
   "mimetype": "text/x-python",
   "name": "python",
   "nbconvert_exporter": "python",
   "pygments_lexer": "ipython3",
   "version": "3.12.6"
  }
 },
 "nbformat": 4,
 "nbformat_minor": 2
}

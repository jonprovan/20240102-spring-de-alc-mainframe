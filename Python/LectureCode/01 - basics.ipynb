{
 "cells": [
  {
   "cell_type": "markdown",
   "metadata": {},
   "source": [
    "# Intro to Python\n",
    "\n",
    "## Day 1 - Types and Collections\n",
    "\n",
    "Today we will be going over several data types including:\n",
    "`String`\n",
    "`Int`\n",
    "`Float`\n",
    "`Char`\n",
    "`Bool`\n",
    "`Tuple`"
   ]
  },
  {
   "cell_type": "code",
   "execution_count": 8,
   "metadata": {},
   "outputs": [
    {
     "name": "stdout",
     "output_type": "stream",
     "text": [
      "<class 'str'>\n",
      "125\n",
      "<class 'float'>\n",
      "125.0\n",
      "12\n",
      "20\n"
     ]
    }
   ],
   "source": [
    "# Types are assigned based on what you put in the variable\n",
    "\n",
    "## Incorrect\n",
    "## String quote = \"This is a deep quote\"\n",
    "\n",
    "## Correct\n",
    "quote = \"This is a deep quote\"\n",
    "print(type(quote))\n",
    "\n",
    "quote = 125\n",
    "print(quote)\n",
    "print(type(float(quote)))\n",
    "print(float(quote))\n",
    "\n",
    "# When casting between numeric types there is no logic\n",
    "num1 = 12.8\n",
    "num2 = 20.1\n",
    "\n",
    "print(int(num1))\n",
    "print(int(num2))"
   ]
  },
  {
   "cell_type": "code",
   "execution_count": 15,
   "metadata": {},
   "outputs": [
    {
     "name": "stdout",
     "output_type": "stream",
     "text": [
      "50\n",
      "15\n",
      "5\n",
      "2.0\n",
      "0\n",
      "100000\n",
      "How are ya\n"
     ]
    }
   ],
   "source": [
    "# Math operations operate like you would expect\n",
    "num1 = 10\n",
    "num2 = 5\n",
    "\n",
    "print(num1 * num2)\n",
    "print(num1 + num2)\n",
    "print(num1 - num2)\n",
    "print(num1 / num2)\n",
    "print(num1 % num2)\n",
    "print(num1 ** num2)\n",
    "\n",
    "num1 = \"Ten\"\n",
    "\n",
    "# Anything executed above our error will get executed successfully\n",
    "print(\"How are ya\")\n",
    "# print(int(num1) * num2)"
   ]
  },
  {
   "cell_type": "code",
   "execution_count": 21,
   "metadata": {},
   "outputs": [
    {
     "name": "stdout",
     "output_type": "stream",
     "text": [
      "\n",
      "This is a string\n",
      "that I put\n",
      "on mulitple\n",
      "lines\n",
      "\n",
      "This is a\n",
      "multi-line\n",
      "string\n",
      "\n",
      "Testing this\n",
      "out\n",
      "\n",
      "<class 'complex'>\n"
     ]
    }
   ],
   "source": [
    "# Coupla weirdo types\n",
    "multi_line_str = \"\"\"\n",
    "This is a string\n",
    "that I put\n",
    "on mulitple\n",
    "lines\n",
    "\"\"\"\n",
    "print(multi_line_str)\n",
    "print(\"This is a\\nmulti-line\\nstring\")\n",
    "print(\"\"\"\n",
    "Testing this\n",
    "out\n",
    "\"\"\")\n",
    "\n",
    "#Complex numbers\n",
    "complexnum = 10 + 2j\n",
    "print(type(complexnum))"
   ]
  },
  {
   "cell_type": "code",
   "execution_count": 24,
   "metadata": {},
   "outputs": [
    {
     "name": "stdout",
     "output_type": "stream",
     "text": [
      "Its True\n",
      "It's False\n",
      "14\n"
     ]
    }
   ],
   "source": [
    "# Boolean Types\n",
    "\n",
    "# CASE SENSITIVE\n",
    "true = True\n",
    "false = False\n",
    "none = None\n",
    "num3 = 14\n",
    "\n",
    "if(true):\n",
    "    print(\"Its True\")\n",
    "\n",
    "if(not false):\n",
    "    print(\"It's False\")\n",
    "\n",
    "if(none):\n",
    "    print(\"It's none\")\n",
    "\n",
    "if(num3):\n",
    "    print(num3)"
   ]
  },
  {
   "cell_type": "code",
   "execution_count": 39,
   "metadata": {},
   "outputs": [
    {
     "name": "stdout",
     "output_type": "stream",
     "text": [
      "30\n"
     ]
    }
   ],
   "source": [
    "## Equivelancy Operators\n",
    "## ==\n",
    "## !=\n",
    "## >/=\n",
    "## </=\n",
    "## .equals() compares object IDs\n",
    "num4 = 1\n",
    "person1 = \"\"\n",
    "person2 = None\n",
    "x = None\n",
    "y = None\n",
    "if(x):\n",
    "    x + y\n",
    "\n",
    "if(person1):\n",
    "    print(\"True\")\n",
    "\n",
    "if(person2):\n",
    "    print(\"None\")\n",
    "\n",
    "x = 10\n",
    "y = 20\n",
    "\n",
    "if(x and y):\n",
    "    print(x+y)"
   ]
  },
  {
   "cell_type": "code",
   "execution_count": 44,
   "metadata": {},
   "outputs": [
    {
     "name": "stdout",
     "output_type": "stream",
     "text": [
      "12\n",
      "15\n",
      "17\n",
      "19\n",
      "21\n"
     ]
    }
   ],
   "source": [
    "# Multi-Assignment\n",
    "\n",
    "x, y, z, a, f = 12, 15, 17, \"19\", 21\n",
    "\n",
    "print(x)\n",
    "print(y)\n",
    "print(z)\n",
    "print(a)\n",
    "print(f)\n",
    "\n",
    "# Equilavent of Mulit-Assignment\n",
    "for i in [x,y,z,a,f]:\n",
    "    for j in [12, 15, 17, 19, 21]:\n",
    "        i = j\n",
    "        break\n",
    "\n",
    "\n",
    "## || "
   ]
  },
  {
   "cell_type": "markdown",
   "metadata": {},
   "source": [
    "# Collections\n",
    "\n",
    "Python -> Java\n",
    "\n",
    "`List`-> `ArrayLists`\n",
    "\n",
    "`Sets` -> `???`\n",
    "\n",
    "`Dictionaries` -> `Maps`\n",
    "\n",
    "`Tuple` -> `???`"
   ]
  },
  {
   "cell_type": "code",
   "execution_count": 45,
   "metadata": {},
   "outputs": [
    {
     "name": "stdout",
     "output_type": "stream",
     "text": [
      "[1, 2, 'Three', [1, 2, 3]]\n"
     ]
    }
   ],
   "source": [
    "# Lists are iterable and do not have to have the same data type\n",
    "my_list = [1, 2, \"Three\", [1, 2, 3]]\n",
    "print(my_list)"
   ]
  },
  {
   "cell_type": "code",
   "execution_count": 64,
   "metadata": {},
   "outputs": [
    {
     "name": "stdout",
     "output_type": "stream",
     "text": [
      "One\n",
      "Two\n",
      "Three\n",
      "Four\n",
      "Five\n",
      "0\n",
      "1\n",
      "2\n",
      "3\n",
      "4\n"
     ]
    }
   ],
   "source": [
    "my_list = [\"One\",\"Two\",\"Three\",\"Four\",\"Five\"]\n",
    "\n",
    "# For loops are again very literal\n",
    "# Iterating through a list will give you the value\n",
    "for i in my_list:\n",
    "    print(i)\n",
    "\n",
    "# For loops can also iterate over a range of numbers'\n",
    "# Iterating over the range of the length of the list will give you the index\n",
    "for i in range(len(my_list)):\n",
    "    print(i)"
   ]
  },
  {
   "cell_type": "code",
   "execution_count": 63,
   "metadata": {},
   "outputs": [
    {
     "name": "stdout",
     "output_type": "stream",
     "text": [
      "['One', 'Two', 'Three', 'Four', 'Five']\n",
      "['One', 'Two', 'Three', 'Four', 'Five', 'Six']\n",
      "['Zero', 'One', 'Two', 'Three', 'Four', 'Five', 'Six']\n",
      "['Zero', 'One', 'Two', 'Four', 'Five', 'Six']\n",
      "['Zero', 'One', 'Two', 'Four', 'Five']\n"
     ]
    }
   ],
   "source": [
    "# Can append to a list\n",
    "print(my_list)\n",
    "my_list.append(\"Six\")\n",
    "\n",
    "print(my_list)\n",
    "\n",
    "# We can insert before a specific index\n",
    "my_list.insert(0, \"Zero\")\n",
    "\n",
    "print(my_list)\n",
    "\n",
    "# We can remove via value\n",
    "my_list.remove(\"Three\")\n",
    "\n",
    "print(my_list)\n",
    "\n",
    "# We can 'pop' certain index\n",
    "my_list.pop()\n",
    "\n",
    "print(my_list)\n"
   ]
  },
  {
   "cell_type": "code",
   "execution_count": 85,
   "metadata": {},
   "outputs": [
    {
     "name": "stdout",
     "output_type": "stream",
     "text": [
      "['One', 'Two', 'Three', 'Four', 'Five']\n",
      "Five\n",
      "['One', 'Two', 'Three']\n",
      "['One', 'Three', 'Five']\n",
      "['Five', 'Four', 'Three', 'Two', 'One']\n",
      "['Five', 'Three', 'One']\n"
     ]
    }
   ],
   "source": [
    "# Indexing starts at 0 like normal\n",
    "# But Python adds -1\n",
    "\n",
    "print(my_list)\n",
    "print(my_list[-1])\n",
    "\n",
    "# Lists can also be spliced\n",
    "print(my_list[0:3])\n",
    "\n",
    "# List splices can also be stepped\n",
    "print(my_list[0::2])\n",
    "\n",
    "# The easiest way to reverse a list is using a stepped splice\n",
    "print(my_list[::-1])\n",
    "\n"
   ]
  },
  {
   "cell_type": "code",
   "execution_count": 93,
   "metadata": {},
   "outputs": [
    {
     "name": "stdout",
     "output_type": "stream",
     "text": [
      "{'Pink', 'Orange', 'Yellow'}\n",
      "{'Pink', 'Orange', 'pink', 'Yellow'}\n",
      "{'Five', 'Three', 'Two', 'Four', 'One'}\n"
     ]
    }
   ],
   "source": [
    "# Sets\n",
    "# Sets are unordered and unique\n",
    "\n",
    "my_set = {\"Pink\", \"Orange\", \"Yellow\", \"Pink\"}\n",
    "print(my_set)\n",
    "\n",
    "for i in range(100):\n",
    "    my_set.add(\"pink\")\n",
    "\n",
    "print(my_set)\n",
    "print(set(my_list))"
   ]
  },
  {
   "cell_type": "code",
   "execution_count": 102,
   "metadata": {},
   "outputs": [
    {
     "name": "stdout",
     "output_type": "stream",
     "text": [
      "Trainer\n",
      "Tech\n",
      "Length\n",
      "Justin\n",
      "DE\n",
      "3 Weeks\n",
      "Trainer Justin\n",
      "Tech DE\n",
      "Length 3 Weeks\n"
     ]
    }
   ],
   "source": [
    "# Dictionaries or Dict\n",
    "\n",
    "my_dict = {\n",
    "    \"Trainer\" : \"Justin\",\n",
    "    \"Tech\" : \"DE\",\n",
    "    \"Length\" : \"3 Weeks\"\n",
    "    }\n",
    "\n",
    "#print(my_dict['Trainer'])\n",
    "\n",
    "# Dictionaries make for loops interesting\n",
    "for k in my_dict.keys():\n",
    "    print(k)\n",
    "\n",
    "for v in my_dict.values():\n",
    "    print(v)\n",
    "\n",
    "for k,v in my_dict.items():\n",
    "    print(k + \" \" + v)"
   ]
  },
  {
   "cell_type": "code",
   "execution_count": 108,
   "metadata": {},
   "outputs": [
    {
     "name": "stdout",
     "output_type": "stream",
     "text": [
      "(4, 2)\n"
     ]
    }
   ],
   "source": [
    "# Tuple\n",
    "## (x,y)\n",
    "\n",
    "my_tuple = (4,2)\n",
    "print(my_tuple)"
   ]
  },
  {
   "cell_type": "code",
   "execution_count": null,
   "metadata": {},
   "outputs": [],
   "source": []
  }
 ],
 "metadata": {
  "kernelspec": {
   "display_name": "Python 3",
   "language": "python",
   "name": "python3"
  },
  "language_info": {
   "codemirror_mode": {
    "name": "ipython",
    "version": 3
   },
   "file_extension": ".py",
   "mimetype": "text/x-python",
   "name": "python",
   "nbconvert_exporter": "python",
   "pygments_lexer": "ipython3",
   "version": "3.12.6"
  }
 },
 "nbformat": 4,
 "nbformat_minor": 2
}
